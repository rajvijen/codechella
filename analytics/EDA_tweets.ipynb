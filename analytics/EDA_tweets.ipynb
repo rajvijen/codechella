{
 "cells": [
  {
   "cell_type": "code",
   "execution_count": 2,
   "metadata": {},
   "outputs": [
    {
     "data": {
      "text/html": [
       "<div>\n",
       "<style scoped>\n",
       "    .dataframe tbody tr th:only-of-type {\n",
       "        vertical-align: middle;\n",
       "    }\n",
       "\n",
       "    .dataframe tbody tr th {\n",
       "        vertical-align: top;\n",
       "    }\n",
       "\n",
       "    .dataframe thead th {\n",
       "        text-align: right;\n",
       "    }\n",
       "</style>\n",
       "<table border=\"1\" class=\"dataframe\">\n",
       "  <thead>\n",
       "    <tr style=\"text-align: right;\">\n",
       "      <th></th>\n",
       "      <th>tweet_id</th>\n",
       "      <th>timestamp</th>\n",
       "      <th>tweet_text</th>\n",
       "      <th>all_hashtags</th>\n",
       "      <th>user_id</th>\n",
       "      <th>username</th>\n",
       "      <th>user_profile_description</th>\n",
       "      <th>followers_count</th>\n",
       "    </tr>\n",
       "  </thead>\n",
       "  <tbody>\n",
       "    <tr>\n",
       "      <th>0</th>\n",
       "      <td>1330119004904624128</td>\n",
       "      <td>2020-11-21 12:00:57</td>\n",
       "      <td>Do you know a publisher? We are trying to find...</td>\n",
       "      <td>['endofyeargoals', 'donatelife', 'transplant',...</td>\n",
       "      <td>1258065197324959744</td>\n",
       "      <td>TxUnwrapped</td>\n",
       "      <td>Nonprofit for Intestinal and Multivisceral Tra...</td>\n",
       "      <td>16</td>\n",
       "    </tr>\n",
       "    <tr>\n",
       "      <th>1</th>\n",
       "      <td>1330118750457257987</td>\n",
       "      <td>2020-11-21 11:59:57</td>\n",
       "      <td>GET YOUR HOLIDAY SPIRIT ON WHATEVER YOURS LOOK...</td>\n",
       "      <td>['donatelife']</td>\n",
       "      <td>587502947</td>\n",
       "      <td>roxannewatson74</td>\n",
       "      <td>Heart Transplant Recipient signing over 11,000...</td>\n",
       "      <td>1803</td>\n",
       "    </tr>\n",
       "    <tr>\n",
       "      <th>2</th>\n",
       "      <td>1330098472566009856</td>\n",
       "      <td>2020-11-21 10:39:22</td>\n",
       "      <td>My beautiful daughter’s life was waning in Jul...</td>\n",
       "      <td>['DonateLife', 'ThankYouDay2020']</td>\n",
       "      <td>2877754405</td>\n",
       "      <td>sjholyoak</td>\n",
       "      <td>Participant Observer</td>\n",
       "      <td>18</td>\n",
       "    </tr>\n",
       "    <tr>\n",
       "      <th>3</th>\n",
       "      <td>1330073620236918790</td>\n",
       "      <td>2020-11-21 09:00:37</td>\n",
       "      <td>Don't forget tomorrow is DonateLife Thank You ...</td>\n",
       "      <td>['DonateLife', 'Thankyouday2020']</td>\n",
       "      <td>37796974</td>\n",
       "      <td>DonateLifeToday</td>\n",
       "      <td>Register today — it only takes a minute! Talk ...</td>\n",
       "      <td>6465</td>\n",
       "    </tr>\n",
       "    <tr>\n",
       "      <th>4</th>\n",
       "      <td>1330066217906925568</td>\n",
       "      <td>2020-11-21 08:31:12</td>\n",
       "      <td>Australia's first intestinal transplant recipi...</td>\n",
       "      <td>['DonateLife', 'ThankYouDay2020']</td>\n",
       "      <td>37796974</td>\n",
       "      <td>DonateLifeToday</td>\n",
       "      <td>Register today — it only takes a minute! Talk ...</td>\n",
       "      <td>6465</td>\n",
       "    </tr>\n",
       "  </tbody>\n",
       "</table>\n",
       "</div>"
      ],
      "text/plain": [
       "              tweet_id            timestamp  \\\n",
       "0  1330119004904624128  2020-11-21 12:00:57   \n",
       "1  1330118750457257987  2020-11-21 11:59:57   \n",
       "2  1330098472566009856  2020-11-21 10:39:22   \n",
       "3  1330073620236918790  2020-11-21 09:00:37   \n",
       "4  1330066217906925568  2020-11-21 08:31:12   \n",
       "\n",
       "                                          tweet_text  \\\n",
       "0  Do you know a publisher? We are trying to find...   \n",
       "1  GET YOUR HOLIDAY SPIRIT ON WHATEVER YOURS LOOK...   \n",
       "2  My beautiful daughter’s life was waning in Jul...   \n",
       "3  Don't forget tomorrow is DonateLife Thank You ...   \n",
       "4  Australia's first intestinal transplant recipi...   \n",
       "\n",
       "                                        all_hashtags              user_id  \\\n",
       "0  ['endofyeargoals', 'donatelife', 'transplant',...  1258065197324959744   \n",
       "1                                     ['donatelife']            587502947   \n",
       "2                  ['DonateLife', 'ThankYouDay2020']           2877754405   \n",
       "3                  ['DonateLife', 'Thankyouday2020']             37796974   \n",
       "4                  ['DonateLife', 'ThankYouDay2020']             37796974   \n",
       "\n",
       "          username                           user_profile_description  \\\n",
       "0      TxUnwrapped  Nonprofit for Intestinal and Multivisceral Tra...   \n",
       "1  roxannewatson74  Heart Transplant Recipient signing over 11,000...   \n",
       "2        sjholyoak                               Participant Observer   \n",
       "3  DonateLifeToday  Register today — it only takes a minute! Talk ...   \n",
       "4  DonateLifeToday  Register today — it only takes a minute! Talk ...   \n",
       "\n",
       "   followers_count  \n",
       "0               16  \n",
       "1             1803  \n",
       "2               18  \n",
       "3             6465  \n",
       "4             6465  "
      ]
     },
     "execution_count": 2,
     "metadata": {},
     "output_type": "execute_result"
    }
   ],
   "source": [
    "import pandas as pd\n",
    "train_df = pd.read_csv('./historical_tweet_data.csv')\n",
    "train_df.head()\n"
   ]
  },
  {
   "cell_type": "code",
   "execution_count": 69,
   "metadata": {},
   "outputs": [
    {
     "data": {
      "text/plain": [
       "0    Do you know a publisher? We are trying to find...\n",
       "1    GET YOUR HOLIDAY SPIRIT ON WHATEVER YOURS LOOK...\n",
       "2    My beautiful daughter’s life was waning in Jul...\n",
       "3    Don't forget tomorrow is DonateLife Thank You ...\n",
       "4    Australia's first intestinal transplant recipi...\n",
       "Name: tweet_text, dtype: object"
      ]
     },
     "execution_count": 69,
     "metadata": {},
     "output_type": "execute_result"
    }
   ],
   "source": [
    "df_tweets = train_df['tweet_text']\n",
    "df_tweets.head()"
   ]
  },
  {
   "cell_type": "markdown",
   "metadata": {},
   "source": [
    "### data pre processing"
   ]
  },
  {
   "cell_type": "code",
   "execution_count": 4,
   "metadata": {},
   "outputs": [
    {
     "name": "stdout",
     "output_type": "stream",
     "text": [
      "Requirement already up-to-date: gensim in /Users/pawanjeetkaur/opt/anaconda3/lib/python3.8/site-packages (3.8.3)\n",
      "Requirement already satisfied, skipping upgrade: smart-open>=1.8.1 in /Users/pawanjeetkaur/opt/anaconda3/lib/python3.8/site-packages (from gensim) (3.0.0)\n",
      "Requirement already satisfied, skipping upgrade: scipy>=0.18.1 in /Users/pawanjeetkaur/opt/anaconda3/lib/python3.8/site-packages (from gensim) (1.5.0)\n",
      "Requirement already satisfied, skipping upgrade: numpy>=1.11.3 in /Users/pawanjeetkaur/opt/anaconda3/lib/python3.8/site-packages (from gensim) (1.18.5)\n",
      "Requirement already satisfied, skipping upgrade: six>=1.5.0 in /Users/pawanjeetkaur/opt/anaconda3/lib/python3.8/site-packages (from gensim) (1.15.0)\n",
      "Requirement already satisfied, skipping upgrade: requests in /Users/pawanjeetkaur/opt/anaconda3/lib/python3.8/site-packages (from smart-open>=1.8.1->gensim) (2.20.0)\n",
      "Requirement already satisfied, skipping upgrade: chardet<3.1.0,>=3.0.2 in /Users/pawanjeetkaur/opt/anaconda3/lib/python3.8/site-packages (from requests->smart-open>=1.8.1->gensim) (3.0.4)\n",
      "Requirement already satisfied, skipping upgrade: idna<2.8,>=2.5 in /Users/pawanjeetkaur/opt/anaconda3/lib/python3.8/site-packages (from requests->smart-open>=1.8.1->gensim) (2.7)\n",
      "Requirement already satisfied, skipping upgrade: urllib3<1.25,>=1.21.1 in /Users/pawanjeetkaur/opt/anaconda3/lib/python3.8/site-packages (from requests->smart-open>=1.8.1->gensim) (1.24.3)\n",
      "Requirement already satisfied, skipping upgrade: certifi>=2017.4.17 in /Users/pawanjeetkaur/opt/anaconda3/lib/python3.8/site-packages (from requests->smart-open>=1.8.1->gensim) (2020.6.20)\n"
     ]
    }
   ],
   "source": [
    "!pip install -U gensim"
   ]
  },
  {
   "cell_type": "code",
   "execution_count": 25,
   "metadata": {},
   "outputs": [
    {
     "name": "stderr",
     "output_type": "stream",
     "text": [
      "[nltk_data] Downloading package stopwords to\n",
      "[nltk_data]     /Users/pawanjeetkaur/nltk_data...\n",
      "[nltk_data]   Package stopwords is already up-to-date!\n",
      "[nltk_data] Downloading package wordnet to\n",
      "[nltk_data]     /Users/pawanjeetkaur/nltk_data...\n",
      "[nltk_data]   Unzipping corpora/wordnet.zip.\n"
     ]
    }
   ],
   "source": [
    "from sklearn.feature_extraction.text import CountVectorizer\n",
    "from gensim.corpora import Dictionary\n",
    "from gensim.models.ldamodel import LdaModel\n",
    "from gensim.models import CoherenceModel\n",
    "from nltk.corpus import stopwords\n",
    "from nltk.tokenize import RegexpTokenizer\n",
    "from datetime import datetime\n",
    "import nltk\n",
    "nltk.download('stopwords')\n",
    "nltk.download('wordnet')\n",
    "import pandas as pd\n",
    "import re\n",
    "import math\n",
    "from nltk.stem import WordNetLemmatizer"
   ]
  },
  {
   "cell_type": "code",
   "execution_count": 70,
   "metadata": {},
   "outputs": [
    {
     "data": {
      "text/plain": [
       "['on', 'most', 'until', 's', 'a', 'didn', 'himself', 'the', 'of', 'when']"
      ]
     },
     "execution_count": 70,
     "metadata": {},
     "output_type": "execute_result"
    }
   ],
   "source": [
    "from nltk.corpus import stopwords\n",
    "en_stop_words = set(stopwords.words('english'))\n",
    "list(en_stop_words)[:10]"
   ]
  },
  {
   "cell_type": "code",
   "execution_count": 207,
   "metadata": {},
   "outputs": [],
   "source": [
    "train_clean=train_df.copy()"
   ]
  },
  {
   "cell_type": "code",
   "execution_count": 208,
   "metadata": {},
   "outputs": [
    {
     "data": {
      "text/html": [
       "<div>\n",
       "<style scoped>\n",
       "    .dataframe tbody tr th:only-of-type {\n",
       "        vertical-align: middle;\n",
       "    }\n",
       "\n",
       "    .dataframe tbody tr th {\n",
       "        vertical-align: top;\n",
       "    }\n",
       "\n",
       "    .dataframe thead th {\n",
       "        text-align: right;\n",
       "    }\n",
       "</style>\n",
       "<table border=\"1\" class=\"dataframe\">\n",
       "  <thead>\n",
       "    <tr style=\"text-align: right;\">\n",
       "      <th></th>\n",
       "      <th>tweet_id</th>\n",
       "      <th>timestamp</th>\n",
       "      <th>tweet_text</th>\n",
       "      <th>all_hashtags</th>\n",
       "      <th>user_id</th>\n",
       "      <th>username</th>\n",
       "      <th>user_profile_description</th>\n",
       "      <th>followers_count</th>\n",
       "    </tr>\n",
       "  </thead>\n",
       "  <tbody>\n",
       "    <tr>\n",
       "      <th>0</th>\n",
       "      <td>1330119004904624128</td>\n",
       "      <td>2020-11-21 12:00:57</td>\n",
       "      <td>Do you know a publisher? We are trying to find...</td>\n",
       "      <td>['endofyeargoals', 'donatelife', 'transplant',...</td>\n",
       "      <td>1258065197324959744</td>\n",
       "      <td>TxUnwrapped</td>\n",
       "      <td>Nonprofit for Intestinal and Multivisceral Tra...</td>\n",
       "      <td>16</td>\n",
       "    </tr>\n",
       "    <tr>\n",
       "      <th>1</th>\n",
       "      <td>1330118750457257987</td>\n",
       "      <td>2020-11-21 11:59:57</td>\n",
       "      <td>GET YOUR HOLIDAY SPIRIT ON WHATEVER YOURS LOOK...</td>\n",
       "      <td>['donatelife']</td>\n",
       "      <td>587502947</td>\n",
       "      <td>roxannewatson74</td>\n",
       "      <td>Heart Transplant Recipient signing over 11,000...</td>\n",
       "      <td>1803</td>\n",
       "    </tr>\n",
       "  </tbody>\n",
       "</table>\n",
       "</div>"
      ],
      "text/plain": [
       "              tweet_id            timestamp  \\\n",
       "0  1330119004904624128  2020-11-21 12:00:57   \n",
       "1  1330118750457257987  2020-11-21 11:59:57   \n",
       "\n",
       "                                          tweet_text  \\\n",
       "0  Do you know a publisher? We are trying to find...   \n",
       "1  GET YOUR HOLIDAY SPIRIT ON WHATEVER YOURS LOOK...   \n",
       "\n",
       "                                        all_hashtags              user_id  \\\n",
       "0  ['endofyeargoals', 'donatelife', 'transplant',...  1258065197324959744   \n",
       "1                                     ['donatelife']            587502947   \n",
       "\n",
       "          username                           user_profile_description  \\\n",
       "0      TxUnwrapped  Nonprofit for Intestinal and Multivisceral Tra...   \n",
       "1  roxannewatson74  Heart Transplant Recipient signing over 11,000...   \n",
       "\n",
       "   followers_count  \n",
       "0               16  \n",
       "1             1803  "
      ]
     },
     "execution_count": 208,
     "metadata": {},
     "output_type": "execute_result"
    }
   ],
   "source": [
    "train_clean.head(2)"
   ]
  },
  {
   "cell_type": "code",
   "execution_count": 209,
   "metadata": {},
   "outputs": [],
   "source": [
    "train_clean.dropna(inplace=True)"
   ]
  },
  {
   "cell_type": "code",
   "execution_count": 210,
   "metadata": {},
   "outputs": [],
   "source": [
    "en_stop_words = set(stopwords.words('english'))\n",
    "extended_stop_words = en_stop_words | \\\n",
    "                        {\n",
    "                            '&amp;', 'rt',                           \n",
    "                            'th','co', 're', 've', 'kim', 'daca'\n",
    "                        }"
   ]
  },
  {
   "cell_type": "code",
   "execution_count": 219,
   "metadata": {},
   "outputs": [],
   "source": [
    "# Remove HTML\n",
    "\n",
    "clean=[]\n",
    "for i in train_clean['tweet_text']:\n",
    "    x=(re.sub(r\"http\\S+\", \"\", i))\n",
    "    y=(re.sub(r\"@[\\w]*\",\"\",x))\n",
    "    clean.append(re.sub(r\"#[\\w]*\",\"\",y))"
   ]
  },
  {
   "cell_type": "code",
   "execution_count": 220,
   "metadata": {},
   "outputs": [],
   "source": [
    "train_clean['trial']=clean"
   ]
  },
  {
   "cell_type": "code",
   "execution_count": 224,
   "metadata": {},
   "outputs": [],
   "source": [
    "train_clean['trial']=train_clean['trial'].apply(lambda row: ' '.join([word for word in row.split() if (not word in en_stop_words)]))"
   ]
  },
  {
   "cell_type": "code",
   "execution_count": 227,
   "metadata": {},
   "outputs": [],
   "source": [
    "train_clean['trial']=train_clean['trial'].str.lower()"
   ]
  },
  {
   "cell_type": "code",
   "execution_count": 229,
   "metadata": {},
   "outputs": [],
   "source": [
    "train_clean['trial']=train_clean['trial'].str.replace(\"[^a-z0-9#]\", \" \")"
   ]
  },
  {
   "cell_type": "code",
   "execution_count": 231,
   "metadata": {},
   "outputs": [],
   "source": [
    "train_clean['trial'] = train_clean['trial'].apply(lambda x: x.split())"
   ]
  },
  {
   "cell_type": "code",
   "execution_count": 232,
   "metadata": {},
   "outputs": [
    {
     "data": {
      "text/html": [
       "<div>\n",
       "<style scoped>\n",
       "    .dataframe tbody tr th:only-of-type {\n",
       "        vertical-align: middle;\n",
       "    }\n",
       "\n",
       "    .dataframe tbody tr th {\n",
       "        vertical-align: top;\n",
       "    }\n",
       "\n",
       "    .dataframe thead th {\n",
       "        text-align: right;\n",
       "    }\n",
       "</style>\n",
       "<table border=\"1\" class=\"dataframe\">\n",
       "  <thead>\n",
       "    <tr style=\"text-align: right;\">\n",
       "      <th></th>\n",
       "      <th>tweet_id</th>\n",
       "      <th>timestamp</th>\n",
       "      <th>tweet_text</th>\n",
       "      <th>all_hashtags</th>\n",
       "      <th>user_id</th>\n",
       "      <th>username</th>\n",
       "      <th>user_profile_description</th>\n",
       "      <th>followers_count</th>\n",
       "      <th>trial</th>\n",
       "    </tr>\n",
       "  </thead>\n",
       "  <tbody>\n",
       "    <tr>\n",
       "      <th>0</th>\n",
       "      <td>1330119004904624128</td>\n",
       "      <td>2020-11-21 12:00:57</td>\n",
       "      <td>Do you know a publisher? We are trying to find...</td>\n",
       "      <td>['endofyeargoals', 'donatelife', 'transplant',...</td>\n",
       "      <td>1258065197324959744</td>\n",
       "      <td>TxUnwrapped</td>\n",
       "      <td>Nonprofit for Intestinal and Multivisceral Tra...</td>\n",
       "      <td>16</td>\n",
       "      <td>[do, know, publisher, we, trying, find, best, ...</td>\n",
       "    </tr>\n",
       "    <tr>\n",
       "      <th>1</th>\n",
       "      <td>1330118750457257987</td>\n",
       "      <td>2020-11-21 11:59:57</td>\n",
       "      <td>GET YOUR HOLIDAY SPIRIT ON WHATEVER YOURS LOOK...</td>\n",
       "      <td>['donatelife']</td>\n",
       "      <td>587502947</td>\n",
       "      <td>roxannewatson74</td>\n",
       "      <td>Heart Transplant Recipient signing over 11,000...</td>\n",
       "      <td>1803</td>\n",
       "      <td>[get, your, holiday, spirit, on, whatever, you...</td>\n",
       "    </tr>\n",
       "  </tbody>\n",
       "</table>\n",
       "</div>"
      ],
      "text/plain": [
       "              tweet_id            timestamp  \\\n",
       "0  1330119004904624128  2020-11-21 12:00:57   \n",
       "1  1330118750457257987  2020-11-21 11:59:57   \n",
       "\n",
       "                                          tweet_text  \\\n",
       "0  Do you know a publisher? We are trying to find...   \n",
       "1  GET YOUR HOLIDAY SPIRIT ON WHATEVER YOURS LOOK...   \n",
       "\n",
       "                                        all_hashtags              user_id  \\\n",
       "0  ['endofyeargoals', 'donatelife', 'transplant',...  1258065197324959744   \n",
       "1                                     ['donatelife']            587502947   \n",
       "\n",
       "          username                           user_profile_description  \\\n",
       "0      TxUnwrapped  Nonprofit for Intestinal and Multivisceral Tra...   \n",
       "1  roxannewatson74  Heart Transplant Recipient signing over 11,000...   \n",
       "\n",
       "   followers_count                                              trial  \n",
       "0               16  [do, know, publisher, we, trying, find, best, ...  \n",
       "1             1803  [get, your, holiday, spirit, on, whatever, you...  "
      ]
     },
     "execution_count": 232,
     "metadata": {},
     "output_type": "execute_result"
    }
   ],
   "source": [
    "train_clean.head(2)"
   ]
  },
  {
   "cell_type": "code",
   "execution_count": 168,
   "metadata": {},
   "outputs": [
    {
     "data": {
      "text/html": [
       "<div>\n",
       "<style scoped>\n",
       "    .dataframe tbody tr th:only-of-type {\n",
       "        vertical-align: middle;\n",
       "    }\n",
       "\n",
       "    .dataframe tbody tr th {\n",
       "        vertical-align: top;\n",
       "    }\n",
       "\n",
       "    .dataframe thead th {\n",
       "        text-align: right;\n",
       "    }\n",
       "</style>\n",
       "<table border=\"1\" class=\"dataframe\">\n",
       "  <thead>\n",
       "    <tr style=\"text-align: right;\">\n",
       "      <th></th>\n",
       "      <th>tweet_id</th>\n",
       "      <th>timestamp</th>\n",
       "      <th>tweet_text</th>\n",
       "      <th>all_hashtags</th>\n",
       "      <th>user_id</th>\n",
       "      <th>username</th>\n",
       "      <th>user_profile_description</th>\n",
       "      <th>followers_count</th>\n",
       "      <th>preprocessed_tweet_text</th>\n",
       "    </tr>\n",
       "  </thead>\n",
       "  <tbody>\n",
       "    <tr>\n",
       "      <th>0</th>\n",
       "      <td>1330119004904624128</td>\n",
       "      <td>2020-11-21 12:00:57</td>\n",
       "      <td>Do you know a publisher? We are trying to find...</td>\n",
       "      <td>['endofyeargoals', 'donatelife', 'transplant',...</td>\n",
       "      <td>1258065197324959744</td>\n",
       "      <td>TxUnwrapped</td>\n",
       "      <td>Nonprofit for Intestinal and Multivisceral Tra...</td>\n",
       "      <td>16</td>\n",
       "      <td>o you know a publisher   e are trying to find...</td>\n",
       "    </tr>\n",
       "    <tr>\n",
       "      <th>1</th>\n",
       "      <td>1330118750457257987</td>\n",
       "      <td>2020-11-21 11:59:57</td>\n",
       "      <td>GET YOUR HOLIDAY SPIRIT ON WHATEVER YOURS LOOK...</td>\n",
       "      <td>['donatelife']</td>\n",
       "      <td>587502947</td>\n",
       "      <td>roxannewatson74</td>\n",
       "      <td>Heart Transplant Recipient signing over 11,000...</td>\n",
       "      <td>1803</td>\n",
       "      <td>...</td>\n",
       "    </tr>\n",
       "    <tr>\n",
       "      <th>2</th>\n",
       "      <td>1330098472566009856</td>\n",
       "      <td>2020-11-21 10:39:22</td>\n",
       "      <td>My beautiful daughter’s life was waning in Jul...</td>\n",
       "      <td>['DonateLife', 'ThankYouDay2020']</td>\n",
       "      <td>2877754405</td>\n",
       "      <td>sjholyoak</td>\n",
       "      <td>Participant Observer</td>\n",
       "      <td>18</td>\n",
       "      <td>y beautiful daughter s life was waning in  ul...</td>\n",
       "    </tr>\n",
       "    <tr>\n",
       "      <th>3</th>\n",
       "      <td>1330073620236918790</td>\n",
       "      <td>2020-11-21 09:00:37</td>\n",
       "      <td>Don't forget tomorrow is DonateLife Thank You ...</td>\n",
       "      <td>['DonateLife', 'Thankyouday2020']</td>\n",
       "      <td>37796974</td>\n",
       "      <td>DonateLifeToday</td>\n",
       "      <td>Register today — it only takes a minute! Talk ...</td>\n",
       "      <td>6465</td>\n",
       "      <td>on t forget tomorrow is  onate ife  hank  ou ...</td>\n",
       "    </tr>\n",
       "    <tr>\n",
       "      <th>4</th>\n",
       "      <td>1330066217906925568</td>\n",
       "      <td>2020-11-21 08:31:12</td>\n",
       "      <td>Australia's first intestinal transplant recipi...</td>\n",
       "      <td>['DonateLife', 'ThankYouDay2020']</td>\n",
       "      <td>37796974</td>\n",
       "      <td>DonateLifeToday</td>\n",
       "      <td>Register today — it only takes a minute! Talk ...</td>\n",
       "      <td>6465</td>\n",
       "      <td>ustralia s first intestinal transplant recipi...</td>\n",
       "    </tr>\n",
       "  </tbody>\n",
       "</table>\n",
       "</div>"
      ],
      "text/plain": [
       "              tweet_id           timestamp  \\\n",
       "0  1330119004904624128 2020-11-21 12:00:57   \n",
       "1  1330118750457257987 2020-11-21 11:59:57   \n",
       "2  1330098472566009856 2020-11-21 10:39:22   \n",
       "3  1330073620236918790 2020-11-21 09:00:37   \n",
       "4  1330066217906925568 2020-11-21 08:31:12   \n",
       "\n",
       "                                          tweet_text  \\\n",
       "0  Do you know a publisher? We are trying to find...   \n",
       "1  GET YOUR HOLIDAY SPIRIT ON WHATEVER YOURS LOOK...   \n",
       "2  My beautiful daughter’s life was waning in Jul...   \n",
       "3  Don't forget tomorrow is DonateLife Thank You ...   \n",
       "4  Australia's first intestinal transplant recipi...   \n",
       "\n",
       "                                        all_hashtags              user_id  \\\n",
       "0  ['endofyeargoals', 'donatelife', 'transplant',...  1258065197324959744   \n",
       "1                                     ['donatelife']            587502947   \n",
       "2                  ['DonateLife', 'ThankYouDay2020']           2877754405   \n",
       "3                  ['DonateLife', 'Thankyouday2020']             37796974   \n",
       "4                  ['DonateLife', 'ThankYouDay2020']             37796974   \n",
       "\n",
       "          username                           user_profile_description  \\\n",
       "0      TxUnwrapped  Nonprofit for Intestinal and Multivisceral Tra...   \n",
       "1  roxannewatson74  Heart Transplant Recipient signing over 11,000...   \n",
       "2        sjholyoak                               Participant Observer   \n",
       "3  DonateLifeToday  Register today — it only takes a minute! Talk ...   \n",
       "4  DonateLifeToday  Register today — it only takes a minute! Talk ...   \n",
       "\n",
       "   followers_count                            preprocessed_tweet_text  \n",
       "0               16   o you know a publisher   e are trying to find...  \n",
       "1             1803                                                ...  \n",
       "2               18   y beautiful daughter s life was waning in  ul...  \n",
       "3             6465   on t forget tomorrow is  onate ife  hank  ou ...  \n",
       "4             6465   ustralia s first intestinal transplant recipi...  "
      ]
     },
     "execution_count": 168,
     "metadata": {},
     "output_type": "execute_result"
    }
   ],
   "source": [
    "df_clean_tweets.head()"
   ]
  },
  {
   "cell_type": "code",
   "execution_count": 165,
   "metadata": {},
   "outputs": [
    {
     "data": {
      "text/plain": [
       "' from  unosnews    lease help keep immunosuppressed recipients  and others  safe by wearing a mask          hanks for the reminder  donatelifenewengland   lifecentercincy     https   t co 2  2    0 '"
      ]
     },
     "execution_count": 165,
     "metadata": {},
     "output_type": "execute_result"
    }
   ],
   "source": [
    "df_clean_tweets['preprocessed_tweet_text'][10]"
   ]
  },
  {
   "cell_type": "markdown",
   "metadata": {},
   "source": [
    "##### Topic modelling (just checking)"
   ]
  },
  {
   "cell_type": "code",
   "execution_count": 233,
   "metadata": {},
   "outputs": [
    {
     "data": {
      "text/plain": [
       "[('organ', 92),\n",
       " ('gt', 80),\n",
       " ('donor', 79),\n",
       " ('amp', 75),\n",
       " ('life', 72),\n",
       " ('transplant', 68),\n",
       " ('donation', 58),\n",
       " ('register', 45),\n",
       " ('tissue', 39),\n",
       " ('story', 38)]"
      ]
     },
     "execution_count": 233,
     "metadata": {},
     "output_type": "execute_result"
    }
   ],
   "source": [
    "def get_most_freq_words(str, n=None):\n",
    "    vect = CountVectorizer().fit(str)\n",
    "    bag_of_words = vect.transform(str)\n",
    "    sum_words = bag_of_words.sum(axis=0) \n",
    "    freq = [(word, sum_words[0, idx]) for word, idx in vect.vocabulary_.items()]\n",
    "    freq =sorted(freq, key = lambda x: x[1], reverse=True)\n",
    "    return freq[:n]\n",
    "  \n",
    "get_most_freq_words([ word for tweet in train_clean.trial for word in tweet],10)"
   ]
  },
  {
   "cell_type": "code",
   "execution_count": 236,
   "metadata": {},
   "outputs": [],
   "source": [
    "tweets_dictionary = Dictionary(train_clean.trial)"
   ]
  },
  {
   "cell_type": "code",
   "execution_count": 237,
   "metadata": {},
   "outputs": [],
   "source": [
    "tweets_corpus = [tweets_dictionary.doc2bow(tweet) for tweet in train_clean.trial]"
   ]
  },
  {
   "cell_type": "code",
   "execution_count": 238,
   "metadata": {},
   "outputs": [],
   "source": [
    "#compute coherence\n",
    "tweets_coherence = []\n",
    "\n",
    "for nb_topics in range(1,36):\n",
    "    lda = LdaModel(tweets_corpus, num_topics = nb_topics, id2word = tweets_dictionary, passes=10)\n",
    "    cohm = CoherenceModel(model=lda, corpus=tweets_corpus, dictionary=tweets_dictionary, coherence='u_mass')\n",
    "    coh = cohm.get_coherence()\n",
    "    tweets_coherence.append(coh)"
   ]
  },
  {
   "cell_type": "code",
   "execution_count": 239,
   "metadata": {},
   "outputs": [
    {
     "data": {
      "image/png": "[encoded data removed]",
      "text/plain": [
       "<Figure size 720x360 with 1 Axes>"
      ]
     },
     "metadata": {
      "needs_background": "light"
     },
     "output_type": "display_data"
    }
   ],
   "source": [
    "import matplotlib.pyplot as plt\n",
    "\n",
    "######### visualize coherence\n",
    "plt.figure(figsize=(10,5))\n",
    "plt.plot(range(1,36),tweets_coherence)\n",
    "plt.xlabel(\"Number of Topics\")\n",
    "plt.ylabel(\"Coherence Score\");"
   ]
  },
  {
   "cell_type": "code",
   "execution_count": 243,
   "metadata": {},
   "outputs": [],
   "source": [
    "k = 10\n",
    "tweets_lda = LdaModel(tweets_corpus, num_topics = k, id2word = tweets_dictionary, passes=10)"
   ]
  },
  {
   "cell_type": "code",
   "execution_count": 261,
   "metadata": {},
   "outputs": [
    {
     "name": "stdout",
     "output_type": "stream",
     "text": [
      "0::['amp', 'life', 'save', 'another', 'you']\n",
      "1::['donor', 'organ', 'donors', 'amp', 'life']\n",
      "2::['gt', 'the', 'story', 'please', 'get']\n",
      "3::['organ', 'us', 's', 'donation', 'join']\n",
      "4::['help', 'please', 'important', 'register', 'need']\n",
      "5::['s', 'amp', 'life', 'register', 'it']\n",
      "6::['faith', 'learn', 'organ', 'donation', 'rose']\n",
      "7::['donation', 'donor', 'organ', 'amp', 's']\n",
      "8::['donor', 'transplant', 'organ', 'today', 's']\n",
      "9::['organ', 'donation', 's', 'life', 'x']\n",
      "\n",
      "['amp', 'life', 'save', 'another', 'you', 'donor', 'organ', 'donors', 'amp', 'life', 'gt', 'the', 'story', 'please', 'get', 'organ', 'us', 's', 'donation', 'join', 'help', 'please', 'important', 'register', 'need', 's', 'amp', 'life', 'register', 'it', 'faith', 'learn', 'organ', 'donation', 'rose', 'donation', 'donor', 'organ', 'amp', 's', 'donor', 'transplant', 'organ', 'today', 's', 'organ', 'donation', 's', 'life', 'x']\n"
     ]
    }
   ],
   "source": [
    "x=tweets_lda.show_topics(num_topics=k, num_words=5,formatted=False)\n",
    "topics_words = [(tp[0], [wd[0] for wd in tp[1]]) for tp in x]\n",
    "\n",
    "#Below Code Prints Topics and Words\n",
    "for topic,words in topics_words:\n",
    "    print(str(topic)+ \"::\"+ str(words))\n",
    "print()\n",
    "\n",
    "#Below Code Prints Only Words \n",
    "list_of_words = []\n",
    "for topic,words in topics_words:\n",
    "    list_of_words.extend(words)\n",
    "    #print(\" \".join(words))\n",
    "\n",
    "print(list_of_words)"
   ]
  },
  {
   "cell_type": "code",
   "execution_count": 244,
   "metadata": {},
   "outputs": [],
   "source": [
    "import matplotlib.gridspec as gridspec\n",
    "#matplotlib.gridspec.GridSpecBase\n",
    "\n",
    "def plot_top_words(lda=tweets_lda, nb_topics=k, nb_words=10):\n",
    "    top_words = [[word for word,_ in lda.show_topic(topic_id, topn=50)] for topic_id in range(lda.num_topics)]\n",
    "    top_betas = [[beta for _,beta in lda.show_topic(topic_id, topn=50)] for topic_id in range(lda.num_topics)]\n",
    "\n",
    "    gs  = gridspec.GridSpec(round(math.sqrt(k))+1,round(math.sqrt(k))+1)\n",
    "    gs.update(wspace=0.5, hspace=0.5)\n",
    "    plt.figure(figsize=(20,15))\n",
    "    for i in range(nb_topics):\n",
    "        ax = plt.subplot(gs[i])\n",
    "        plt.barh(range(nb_words), top_betas[i][:nb_words], align='center',color='blue', ecolor='black')\n",
    "        ax.invert_yaxis()\n",
    "        ax.set_yticks(range(nb_words))\n",
    "        ax.set_yticklabels(top_words[i][:nb_words])\n",
    "        plt.title(\"Topic \"+str(i))"
   ]
  },
  {
   "cell_type": "code",
   "execution_count": 245,
   "metadata": {},
   "outputs": [
    {
     "data": {
      "image/png": "[encoded data removed]",
      "text/plain": [
       "<Figure size 1440x1080 with 10 Axes>"
      ]
     },
     "metadata": {
      "needs_background": "light"
     },
     "output_type": "display_data"
    }
   ],
   "source": [
    "plot_top_words()"
   ]
  },
  {
   "cell_type": "markdown",
   "metadata": {},
   "source": [
    "#### Changing dataset to binary class , Putting all the 300 tweets as class 1 and getting random tweets and putting it as 0 class to build logit model"
   ]
  },
  {
   "cell_type": "code",
   "execution_count": 257,
   "metadata": {},
   "outputs": [],
   "source": [
    "import pandas as pd\n",
    "final_data = pd.DataFrame(train_clean['trial'])\n",
    "final_data['new_tweet'] = train_clean['trial'].apply(lambda x: ' '.join(x))"
   ]
  },
  {
   "cell_type": "code",
   "execution_count": 259,
   "metadata": {},
   "outputs": [
    {
     "data": {
      "text/html": [
       "<div>\n",
       "<style scoped>\n",
       "    .dataframe tbody tr th:only-of-type {\n",
       "        vertical-align: middle;\n",
       "    }\n",
       "\n",
       "    .dataframe tbody tr th {\n",
       "        vertical-align: top;\n",
       "    }\n",
       "\n",
       "    .dataframe thead th {\n",
       "        text-align: right;\n",
       "    }\n",
       "</style>\n",
       "<table border=\"1\" class=\"dataframe\">\n",
       "  <thead>\n",
       "    <tr style=\"text-align: right;\">\n",
       "      <th></th>\n",
       "      <th>trial</th>\n",
       "      <th>new_tweet</th>\n",
       "    </tr>\n",
       "  </thead>\n",
       "  <tbody>\n",
       "    <tr>\n",
       "      <th>0</th>\n",
       "      <td>[do, know, publisher, we, trying, find, best, ...</td>\n",
       "      <td>do know publisher we trying find best economic...</td>\n",
       "    </tr>\n",
       "    <tr>\n",
       "      <th>1</th>\n",
       "      <td>[get, your, holiday, spirit, on, whatever, you...</td>\n",
       "      <td>get your holiday spirit on whatever yours look...</td>\n",
       "    </tr>\n",
       "    <tr>\n",
       "      <th>2</th>\n",
       "      <td>[my, beautiful, daughter, s, life, waning, jul...</td>\n",
       "      <td>my beautiful daughter s life waning july year ...</td>\n",
       "    </tr>\n",
       "    <tr>\n",
       "      <th>3</th>\n",
       "      <td>[don, t, forget, tomorrow, donatelife, thank, ...</td>\n",
       "      <td>don t forget tomorrow donatelife thank you day...</td>\n",
       "    </tr>\n",
       "    <tr>\n",
       "      <th>4</th>\n",
       "      <td>[australia, s, first, intestinal, transplant, ...</td>\n",
       "      <td>australia s first intestinal transplant recipi...</td>\n",
       "    </tr>\n",
       "  </tbody>\n",
       "</table>\n",
       "</div>"
      ],
      "text/plain": [
       "                                               trial  \\\n",
       "0  [do, know, publisher, we, trying, find, best, ...   \n",
       "1  [get, your, holiday, spirit, on, whatever, you...   \n",
       "2  [my, beautiful, daughter, s, life, waning, jul...   \n",
       "3  [don, t, forget, tomorrow, donatelife, thank, ...   \n",
       "4  [australia, s, first, intestinal, transplant, ...   \n",
       "\n",
       "                                           new_tweet  \n",
       "0  do know publisher we trying find best economic...  \n",
       "1  get your holiday spirit on whatever yours look...  \n",
       "2  my beautiful daughter s life waning july year ...  \n",
       "3  don t forget tomorrow donatelife thank you day...  \n",
       "4  australia s first intestinal transplant recipi...  "
      ]
     },
     "execution_count": 259,
     "metadata": {},
     "output_type": "execute_result"
    }
   ],
   "source": [
    "final_data.head()"
   ]
  },
  {
   "cell_type": "code",
   "execution_count": 262,
   "metadata": {},
   "outputs": [],
   "source": [
    "data = final_data.copy()"
   ]
  },
  {
   "cell_type": "markdown",
   "metadata": {},
   "source": [
    "#### Label data"
   ]
  },
  {
   "cell_type": "code",
   "execution_count": 263,
   "metadata": {},
   "outputs": [],
   "source": [
    "data['label'] = data['new_tweet'].map(lambda x: 1 if (any(word in x for word in list_of_words)) else 0)"
   ]
  },
  {
   "cell_type": "code",
   "execution_count": 264,
   "metadata": {},
   "outputs": [
    {
     "data": {
      "text/html": [
       "<div>\n",
       "<style scoped>\n",
       "    .dataframe tbody tr th:only-of-type {\n",
       "        vertical-align: middle;\n",
       "    }\n",
       "\n",
       "    .dataframe tbody tr th {\n",
       "        vertical-align: top;\n",
       "    }\n",
       "\n",
       "    .dataframe thead th {\n",
       "        text-align: right;\n",
       "    }\n",
       "</style>\n",
       "<table border=\"1\" class=\"dataframe\">\n",
       "  <thead>\n",
       "    <tr style=\"text-align: right;\">\n",
       "      <th></th>\n",
       "      <th>trial</th>\n",
       "      <th>new_tweet</th>\n",
       "      <th>label</th>\n",
       "    </tr>\n",
       "  </thead>\n",
       "  <tbody>\n",
       "    <tr>\n",
       "      <th>0</th>\n",
       "      <td>[do, know, publisher, we, trying, find, best, ...</td>\n",
       "      <td>do know publisher we trying find best economic...</td>\n",
       "      <td>1</td>\n",
       "    </tr>\n",
       "    <tr>\n",
       "      <th>1</th>\n",
       "      <td>[get, your, holiday, spirit, on, whatever, you...</td>\n",
       "      <td>get your holiday spirit on whatever yours look...</td>\n",
       "      <td>1</td>\n",
       "    </tr>\n",
       "    <tr>\n",
       "      <th>2</th>\n",
       "      <td>[my, beautiful, daughter, s, life, waning, jul...</td>\n",
       "      <td>my beautiful daughter s life waning july year ...</td>\n",
       "      <td>1</td>\n",
       "    </tr>\n",
       "    <tr>\n",
       "      <th>3</th>\n",
       "      <td>[don, t, forget, tomorrow, donatelife, thank, ...</td>\n",
       "      <td>don t forget tomorrow donatelife thank you day...</td>\n",
       "      <td>1</td>\n",
       "    </tr>\n",
       "    <tr>\n",
       "      <th>4</th>\n",
       "      <td>[australia, s, first, intestinal, transplant, ...</td>\n",
       "      <td>australia s first intestinal transplant recipi...</td>\n",
       "      <td>1</td>\n",
       "    </tr>\n",
       "  </tbody>\n",
       "</table>\n",
       "</div>"
      ],
      "text/plain": [
       "                                               trial  \\\n",
       "0  [do, know, publisher, we, trying, find, best, ...   \n",
       "1  [get, your, holiday, spirit, on, whatever, you...   \n",
       "2  [my, beautiful, daughter, s, life, waning, jul...   \n",
       "3  [don, t, forget, tomorrow, donatelife, thank, ...   \n",
       "4  [australia, s, first, intestinal, transplant, ...   \n",
       "\n",
       "                                           new_tweet  label  \n",
       "0  do know publisher we trying find best economic...      1  \n",
       "1  get your holiday spirit on whatever yours look...      1  \n",
       "2  my beautiful daughter s life waning july year ...      1  \n",
       "3  don t forget tomorrow donatelife thank you day...      1  \n",
       "4  australia s first intestinal transplant recipi...      1  "
      ]
     },
     "execution_count": 264,
     "metadata": {},
     "output_type": "execute_result"
    }
   ],
   "source": [
    "data.head()"
   ]
  },
  {
   "cell_type": "code",
   "execution_count": 266,
   "metadata": {},
   "outputs": [
    {
     "data": {
      "text/plain": [
       "1    266\n",
       "0      5\n",
       "Name: label, dtype: int64"
      ]
     },
     "execution_count": 266,
     "metadata": {},
     "output_type": "execute_result"
    }
   ],
   "source": [
    "data.label.value_counts()"
   ]
  },
  {
   "cell_type": "code",
   "execution_count": 267,
   "metadata": {},
   "outputs": [],
   "source": [
    "# Define features, X, and y\n",
    "features = ['new_tweet']\n",
    "X = data[features]\n",
    "y = data['label']"
   ]
  },
  {
   "cell_type": "code",
   "execution_count": 270,
   "metadata": {},
   "outputs": [
    {
     "name": "stdout",
     "output_type": "stream",
     "text": [
      "Requirement already satisfied: scikit-learn in /Users/pawanjeetkaur/opt/anaconda3/lib/python3.8/site-packages (0.23.1)\r\n",
      "Requirement already satisfied: joblib>=0.11 in /Users/pawanjeetkaur/opt/anaconda3/lib/python3.8/site-packages (from scikit-learn) (0.16.0)\r\n",
      "Requirement already satisfied: numpy>=1.13.3 in /Users/pawanjeetkaur/opt/anaconda3/lib/python3.8/site-packages (from scikit-learn) (1.18.5)\r\n",
      "Requirement already satisfied: scipy>=0.19.1 in /Users/pawanjeetkaur/opt/anaconda3/lib/python3.8/site-packages (from scikit-learn) (1.5.0)\r\n",
      "Requirement already satisfied: threadpoolctl>=2.0.0 in /Users/pawanjeetkaur/opt/anaconda3/lib/python3.8/site-packages (from scikit-learn) (2.1.0)\r\n"
     ]
    }
   ],
   "source": [
    "!pip install scikit-learn"
   ]
  },
  {
   "cell_type": "code",
   "execution_count": 274,
   "metadata": {},
   "outputs": [],
   "source": [
    "from sklearn.feature_extraction.text import TfidfVectorizer\n",
    "from sklearn.linear_model import LogisticRegression\n",
    "\n",
    "def model_fit_score(X, y,vect_name, vect_type=TfidfVectorizer(),\n",
    "                    model_name='Log_Reg',\n",
    "                    model_type=LogisticRegression(),\n",
    "                    parameters={}):\n",
    "\n",
    "    pipe = Pipeline([\n",
    "        (vect_name,vect_type),\n",
    "        (model_name, model_type)])\n",
    "    \n",
    "    # perform gridsearch\n",
    "    grid = GridSearchCV(pipe, param_grid=parameters, scoring='roc_auc', cv=3)\n",
    "    grid = grid.fit(X, y)\n",
    "\n",
    "    # Print best attributes\n",
    "    print(f\"For model: {model_name}\")\n",
    "    print(\"-\" * 40)\n",
    "    print(f\"The best parameters are: \\n {grid.best_params_}\")\n",
    "    print(\"-\" * 40)\n",
    "    print(f\"The best score is: \\n {grid.best_score_:.4f}\")\n",
    "    print(\"-\" * 40)\n",
    "    \n",
    "    return grid"
   ]
  },
  {
   "cell_type": "code",
   "execution_count": 271,
   "metadata": {},
   "outputs": [],
   "source": [
    "from sklearn.model_selection import train_test_split\n",
    "X_train, X_test, y_train, y_test = train_test_split(X,\n",
    "                                                    y,\n",
    "                                                    test_size=0.25,\n",
    "                                                    stratify=y)"
   ]
  },
  {
   "cell_type": "code",
   "execution_count": 285,
   "metadata": {},
   "outputs": [],
   "source": [
    "from sklearn.pipeline import Pipeline\n",
    "from sklearn.model_selection import train_test_split, GridSearchCV, cross_val_score\n",
    "\n",
    "params_vec = {\n",
    "    'vec__max_features': [50],\n",
    "    'vec__min_df': [.01],\n",
    "    'vec__max_df': [.8],\n",
    "    'vec__ngram_range': [(1,2)]}\n",
    "\n",
    "params_Log_Reg = {\n",
    "    'Log_Reg__penalty': ['12'],\n",
    "    'Log_Reg__C': [1.0]}\n",
    "\n",
    "params_gb = {\n",
    "    'gb__learning_rate': [0.1],\n",
    "    'gb__n_estimators': [200],\n",
    "    'gb__max_depth': [5],\n",
    "    'gb__min_samples_leaf': [1],\n",
    "    'gb__min_samples_split': [2]}\n",
    "    \n",
    "params_sm = {\n",
    "    'sm__kind': 'regular',\n",
    "    'sm__sampling_strategy': [0.45],\n",
    "    'sm__k_neighbors': [6]}"
   ]
  },
  {
   "cell_type": "code",
   "execution_count": 288,
   "metadata": {},
   "outputs": [
    {
     "name": "stdout",
     "output_type": "stream",
     "text": [
      "For model: Log_Reg\n",
      "----------------------------------------\n",
      "The best parameters are: \n",
      " {}\n",
      "----------------------------------------\n",
      "The best score is: \n",
      " 0.8014\n",
      "----------------------------------------\n",
      "Train set Score: \n",
      " 1.0\n",
      "Test set Score: \n",
      " 0.8656716417910447\n"
     ]
    }
   ],
   "source": [
    "Log_Reg_tvec = model_fit_score(X_train['new_tweet'], y_train,         \n",
    "                vect_name = 'vec',\n",
    "                vect_type = TfidfVectorizer(),               \n",
    "                model_name ='Log_Reg',          \n",
    "                model_type = LogisticRegression())\n",
    "\n",
    "# Print Training and Test scores \n",
    "print(f\"Train set Score: \\n {Log_Reg_tvec.score(X_train['new_tweet'], y_train)}\")\n",
    "print(f\"Test set Score: \\n {Log_Reg_tvec.score(X_test['new_tweet'], y_test)}\")"
   ]
  },
  {
   "cell_type": "code",
   "execution_count": 289,
   "metadata": {},
   "outputs": [],
   "source": [
    "def plot_confusion_matrix(cm, target_names, title='Confusion matrix', cmap=plt.cm.Blues):\n",
    "    \n",
    "    plt.imshow(cm, interpolation='nearest', cmap=cmap)\n",
    "    plt.title(title)\n",
    "    plt.colorbar()\n",
    "    \n",
    "    tick_marks = np.arange(len(target_names))\n",
    "    plt.xticks(tick_marks, target_names, rotation=45)\n",
    "    plt.yticks(tick_marks, target_names)\n",
    "    plt.tight_layout()\n",
    "\n",
    "    width, height = cm.shape\n",
    "\n",
    "    for x in range(width):\n",
    "        for y in range(height):\n",
    "            plt.annotate(str(cm[x][y]), xy=(y, x), \n",
    "                        horizontalalignment='center',\n",
    "                        verticalalignment='center')\n",
    "    plt.ylabel('True label')\n",
    "    plt.xlabel('Predicted label')"
   ]
  },
  {
   "cell_type": "code",
   "execution_count": 294,
   "metadata": {},
   "outputs": [
    {
     "data": {
      "image/png": "[encoded data removed]",
      "text/plain": [
       "<Figure size 432x288 with 2 Axes>"
      ]
     },
     "metadata": {
      "needs_background": "light"
     },
     "output_type": "display_data"
    }
   ],
   "source": [
    "from sklearn.metrics import confusion_matrix\n",
    "\n",
    "model_name = Log_Reg_tvec\n",
    "\n",
    "# Generate predictions\n",
    "y_pred = (model_name.predict(X_test['new_tweet'])) \n",
    "y_test.shape\n",
    "y_pred.shape\n",
    "\n",
    "# Calculate ROC AUC and Accuracy scores\n",
    "#print(f\"ROC AUC score: {roc_auc_score(y_test, y_pred)}\")\n",
    "\n",
    "# # Plot confusion matrix\n",
    "plt.figure()\n",
    "cm = confusion_matrix(y_test, y_pred)\n",
    "plot_confusion_matrix(cm, ['0', '1']);"
   ]
  },
  {
   "cell_type": "code",
   "execution_count": 295,
   "metadata": {},
   "outputs": [],
   "source": [
    "#export final tvec and gb model using pickle\n",
    "import pickle\n",
    "filename = './logit_model.sav'\n",
    "pickle.dump(Log_Reg_tvec , open(filename, 'wb'))"
   ]
  },
  {
   "cell_type": "code",
   "execution_count": null,
   "metadata": {},
   "outputs": [],
   "source": []
  }
 ],
 "metadata": {
  "kernelspec": {
   "display_name": "Python 3",
   "language": "python",
   "name": "python3"
  },
  "language_info": {
   "codemirror_mode": {
    "name": "ipython",
    "version": 3
   },
   "file_extension": ".py",
   "mimetype": "text/x-python",
   "name": "python",
   "nbconvert_exporter": "python",
   "pygments_lexer": "ipython3",
   "version": "3.8.3"
  }
 },
 "nbformat": 4,
 "nbformat_minor": 4
}
