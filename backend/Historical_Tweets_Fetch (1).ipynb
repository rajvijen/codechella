{
  "nbformat": 4,
  "nbformat_minor": 0,
  "metadata": {
    "accelerator": "TPU",
    "colab": {
      "name": "Historical_Tweets_Fetch.ipynb",
      "provenance": [],
      "collapsed_sections": []
    },
    "kernelspec": {
      "display_name": "Python 3",
      "name": "python3"
    }
  },
  "cells": [
    {
      "cell_type": "markdown",
      "metadata": {
        "id": "vs7-iSBgalCK"
      },
      "source": [
        "# Codechella"
      ]
    },
    {
      "cell_type": "markdown",
      "metadata": {
        "id": "ko-h_LXCa0m4"
      },
      "source": [
        "### Twitter Bot - Test"
      ]
    },
    {
      "cell_type": "code",
      "metadata": {
        "id": "6pmkg22DarPH"
      },
      "source": [
        "import tweepy"
      ],
      "execution_count": null,
      "outputs": []
    },
    {
      "cell_type": "markdown",
      "metadata": {
        "id": "X9tMsozpbCRn"
      },
      "source": [
        "##### Credentials"
      ]
    },
    {
      "cell_type": "code",
      "metadata": {
        "id": "KKq-hUsgaHqp"
      },
      "source": [
        "consumer_key = ''\n",
        "consumer_secret = ''\n",
        "access_token = ''\n",
        "access_token_secret = ''"
      ],
      "execution_count": null,
      "outputs": []
    },
    {
      "cell_type": "markdown",
      "metadata": {
        "id": "bF3SpLRWbzmm"
      },
      "source": [
        "###### Set up OAuth and integrate with API"
      ]
    },
    {
      "cell_type": "code",
      "metadata": {
        "id": "k0IApu3rbs7b"
      },
      "source": [
        "# auth = tweepy.OAuthHandler(consumer_key, consumer_secret)\n",
        "# auth.set_access_token(access_token, access_token_secret)\n",
        "# # api = tweepy.API(auth)\n",
        "\n",
        "# # create API object to pull data from twitter - and pass in authentication code\n",
        "# api = tweepy.API(auth, wait_on_rate_limit=True, wait_on_rate_limit_notify=True)"
      ],
      "execution_count": null,
      "outputs": []
    },
    {
      "cell_type": "code",
      "metadata": {
        "id": "ssNteaYTbuCg"
      },
      "source": [
        "# Write a tweet to push to our Twitter account\n",
        "# Post a tweet from Python\n",
        "# tweet = \"Look, I'm tweeting from #Python in my #Codechella Hack @TwitterU\"\n",
        "# api.update_status(status=tweet)"
      ],
      "execution_count": null,
      "outputs": []
    },
    {
      "cell_type": "markdown",
      "metadata": {
        "id": "4EDMOoQHeiJw"
      },
      "source": [
        "It Works!!! \n",
        "---"
      ]
    },
    {
      "cell_type": "markdown",
      "metadata": {
        "id": "52GwwoYaesrV"
      },
      "source": [
        "# Historical Tweets Fetch"
      ]
    },
    {
      "cell_type": "code",
      "metadata": {
        "id": "Irxt-SZBhvb8"
      },
      "source": [
        "# Install required packages\n",
        "# !pip install GetOldTweets3 jsonpickle config pandas"
      ],
      "execution_count": null,
      "outputs": []
    },
    {
      "cell_type": "code",
      "metadata": {
        "id": "sNLbGWUIcGGG"
      },
      "source": [
        "# Import all the required libraries\n",
        "# import GetOldTweets3 as got\n",
        "import pandas as pd\n",
        "import tweepy\n",
        "import shutil\n",
        "# import jsonpickle\n",
        "import json\n",
        "import datetime\n",
        "import time\n",
        "import re\n",
        "import csv"
      ],
      "execution_count": null,
      "outputs": []
    },
    {
      "cell_type": "markdown",
      "metadata": {
        "id": "nR_5_FExM8K7"
      },
      "source": [
        "---"
      ]
    },
    {
      "cell_type": "code",
      "metadata": {
        "id": "5QNL4TrNOX7-"
      },
      "source": [
        "\"\"\"\n",
        "INPUTS:\n",
        "    consumer_key, consumer_secret, access_token, access_token_secret: codes \n",
        "    telling twitter that we are authorized to access this data\n",
        "    hashtag_phrase: the combination of hashtags to search for\n",
        "OUTPUTS:\n",
        "    none, simply save the tweet info to a spreadsheet\n",
        "\"\"\"\n",
        "def search_for_hashtags(consumer_key, consumer_secret, access_token, access_token_secret, hashtag_phrase):\n",
        "    \n",
        "    #create authentication for accessing Twitter\n",
        "    auth = tweepy.OAuthHandler(consumer_key, consumer_secret)\n",
        "    auth.set_access_token(access_token, access_token_secret)\n",
        "\n",
        "    #initialize Tweepy API\n",
        "    api = tweepy.API(auth, wait_on_rate_limit=True, wait_on_rate_limit_notify=True)\n",
        "    print('API created...')\n",
        "    \n",
        "    #get the name of the spreadsheet we will write to\n",
        "    fname = '_'.join(re.findall(r\"#(\\w+)\", hashtag_phrase))\n",
        "\n",
        "    #open the spreadsheet we will write to\n",
        "    with open('%s.csv' % (fname), 'w') as file:\n",
        "\n",
        "        w = csv.writer(file)\n",
        "        print('CSV File opened...')\n",
        "\n",
        "        #write header row to spreadsheet\n",
        "        # tweet Object - https://developer.twitter.com/en/docs/twitter-api/v1/data-dictionary/overview/tweet-object (Data Dictionary)\n",
        "        # user object - https://developer.twitter.com/en/docs/tweets/data-dictionary/overview/user-object (Data Dictionary)\n",
        "        # coordinates {gives Point coordinates <lat, long>} and places {gives Polygon coordinates <bounding box>} are different -> refer above tweet object link\n",
        "        w.writerow(['tweet_id','timestamp','tweet_text','all_hashtags','coordinates','place','retweet_count', 'user_id','user_screenname','user_profile_description', 'user_profile_location']) \n",
        "\n",
        "        #for each tweet matching our hashtags, write relevant info to the spreadsheet\n",
        "        for tweet in tweepy.Cursor(api.search, q=hashtag_phrase+' -filter:retweets', \\\n",
        "                                   lang=\"en\", tweet_mode='extended', since='2010-11-21').items(5000):\n",
        "            # print(tweet._json)\n",
        "            # break\n",
        "            coordinates = tweet.coordinates\n",
        "            place = tweet._json['place']\n",
        "            if coordinates:\n",
        "                coordinates = coordinates['coordinates']\n",
        "            if place:\n",
        "                place = place['bounding_box']['coordinates']\n",
        "            else:\n",
        "                place = tweet.user.location\n",
        "\n",
        "            w.writerow([\n",
        "                tweet.id_str,\n",
        "                tweet.created_at,\n",
        "                tweet.full_text.replace('\\n', ' '),\n",
        "                [hashtag['text'] for hashtag in tweet._json['entities']['hashtags']],\n",
        "                coordinates,\n",
        "                place,\n",
        "                tweet.retweet_count,\n",
        "                tweet.user.id_str,\n",
        "                tweet.user.screen_name,\n",
        "                tweet.user.description.replace('\\n',' '),\n",
        "                tweet.user.location\n",
        "            ])"
      ],
      "execution_count": null,
      "outputs": []
    },
    {
      "cell_type": "code",
      "metadata": {
        "colab": {
          "base_uri": "https://localhost:8080/"
        },
        "id": "rcK0iQioPGa-",
        "outputId": "407c0939-ff35-4a58-dc28-a9a2e7d2da8e"
      },
      "source": [
        "hashtag_phrase = input('Hashtag Phrase ') or '#save #help'\n",
        "# hashtag_phrase = '#savelife #fund' #help #donatelife'\n",
        "\n",
        "search_for_hashtags(consumer_key, consumer_secret, access_token, access_token_secret, hashtag_phrase)"
      ],
      "execution_count": null,
      "outputs": [
        {
          "output_type": "stream",
          "text": [
            "Hashtag Phrase #serious #health\n",
            "API created...\n",
            "CSV File opened...\n"
          ],
          "name": "stdout"
        }
      ]
    },
    {
      "cell_type": "code",
      "metadata": {
        "id": "dROJXPYYPfH9"
      },
      "source": [
        "# pd.read_csv(\"help.csv\", header=0)"
      ],
      "execution_count": null,
      "outputs": []
    }
  ]
}